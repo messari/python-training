{
 "cells": [
  {
   "cell_type": "markdown",
   "id": "frozen-shoulder",
   "metadata": {},
   "source": [
    "# Python - Data Structures - Lists and Dictionaries"
   ]
  },
  {
   "cell_type": "markdown",
   "id": "tracked-plate",
   "metadata": {},
   "source": [
    "The most basic data structure in Python is the **sequence**. Each element of a sequence is assigned a number - its position or index. The first index is zero, the second index is one, and so forth.\n",
    "\n",
    "Python has six built-in types of sequences, but the most common ones are lists dictionaries, which we would see in this tutorial.\n",
    "\n",
    "There are certain things you can do with all sequence types. These operations include indexing, slicing, adding, multiplying, and checking for membership. In addition, Python has built-in functions for finding the length of a sequence and for finding its largest and smallest elements."
   ]
  },
  {
   "cell_type": "markdown",
   "id": "limited-trust",
   "metadata": {},
   "source": [
    "## Lists"
   ]
  },
  {
   "cell_type": "markdown",
   "id": "emerging-organic",
   "metadata": {},
   "source": [
    "The list is a most versatile datatype available in Python which can be written as a list of comma-separated values (items) between square brackets. Important thing about a list is that items in a list need not be of the same type.\n",
    "\n",
    "Creating a list is as simple as putting different comma-separated values between square brackets. For example −"
   ]
  },
  {
   "cell_type": "code",
   "execution_count": null,
   "id": "amended-centre",
   "metadata": {},
   "outputs": [],
   "source": [
    "# Basic lists\n",
    "list_of_strings = ['bitcoin', 'ethereum', 'dogecoin']\n",
    "list_of_integers = [0, 1, 2, 3, 4]\n",
    "\n",
    "# A List can also hold other lists\n",
    "list_of_lists = [[0, 1, 3, 4], ['bitcoin', 'ethereum', 'dogecoin'], [['list', 'dictionary'], [['string_to_get'], [10, 15, 79]]]]"
   ]
  },
  {
   "cell_type": "markdown",
   "id": "southern-academy",
   "metadata": {},
   "source": [
    "### Accessing Values in Lists"
   ]
  },
  {
   "cell_type": "markdown",
   "id": "unnecessary-louis",
   "metadata": {},
   "source": [
    "To access values in lists, use the square brackets for slicing along with the index or indices to obtain value available at that index. For example if we wanted to get the string **'bitcoin'** from the **list_of_strings** list we would type the following:"
   ]
  },
  {
   "cell_type": "code",
   "execution_count": null,
   "id": "experienced-newspaper",
   "metadata": {},
   "outputs": [],
   "source": [
    "list_of_strings[0]"
   ]
  },
  {
   "cell_type": "markdown",
   "id": "experimental-remove",
   "metadata": {},
   "source": [
    "As you may have noticed, the first element of any Python sequence begins with **0**. With this in mind trying extracting the following\n",
    "\n",
    "1) The string **'dogecoin'** from the **list_of_strings** list. \n",
    "2) The number **3** from the **list_of_integers** list."
   ]
  },
  {
   "cell_type": "code",
   "execution_count": null,
   "id": "legislative-jerusalem",
   "metadata": {},
   "outputs": [],
   "source": [
    "# Type your code for 1) below\n"
   ]
  },
  {
   "cell_type": "code",
   "execution_count": null,
   "id": "judicial-sitting",
   "metadata": {},
   "outputs": [],
   "source": [
    "# Type your code for 2) below\n"
   ]
  },
  {
   "cell_type": "markdown",
   "id": "premium-genetics",
   "metadata": {},
   "source": [
    "Now lets try something a little more challenging. This time try to extract the string **string_to_get** from the **list_of_lists** list."
   ]
  },
  {
   "cell_type": "code",
   "execution_count": null,
   "id": "protecting-surface",
   "metadata": {},
   "outputs": [],
   "source": [
    "# Type your code below\n"
   ]
  },
  {
   "cell_type": "markdown",
   "id": "accepted-resolution",
   "metadata": {},
   "source": [
    "## Dictionaries"
   ]
  },
  {
   "cell_type": "markdown",
   "id": "greek-caution",
   "metadata": {},
   "source": [
    "Dictionaries are Python objects that follow a key:value stucture. Each key is separated from its value by a colon (:), the items are separated by commas, and the whole thing is enclosed in curly braces. An empty dictionary without any items is written with just two curly braces, like this: {}.\n",
    "\n",
    "Keys are unique within a dictionary while values may not be. The values of a dictionary can be of any type, but the keys must be of an immutable data type such as strings, numbers, or tuples."
   ]
  },
  {
   "cell_type": "code",
   "execution_count": null,
   "id": "iraqi-acceptance",
   "metadata": {},
   "outputs": [],
   "source": [
    "# Basic dictionaries\n",
    "\n",
    "# Key as strings and values as integers\n",
    "price_dict = {'bitcoin': 34000, 'ethereum': 2240, 'dogecoin': .23}\n",
    "\n",
    "# Key as strings and values as strings\n",
    "analyst_dict = {'analyst1': 'Roberto', 'analyst2': 'Mira', 'analyst3': 'Aidan'}\n",
    "\n",
    "# Also dictionaries can hold lists of even other dictionaries\n",
    "dict_of_dicts = {'bitcoin': {'price': 34000,\n",
    "                             'sector': 'currencies',\n",
    "                             'short_description': 'A peer-to-peer electronic cash system'},\n",
    "                 'ethereum': {'prices': [2300, 2450, 2500, 2100, 2000, 2210, 2300],\n",
    "                              'sector': 'smart contract platform',\n",
    "                              'short_description': 'A decentralized computing platform'}}"
   ]
  },
  {
   "cell_type": "markdown",
   "id": "chicken-orientation",
   "metadata": {},
   "source": [
    "### Accessing Values in Dictionaries"
   ]
  },
  {
   "cell_type": "markdown",
   "id": "inside-information",
   "metadata": {},
   "source": [
    "To access dictionary elements, you can use the familiar square brackets along with the key to obtain its value. For example, if we wanted to get Doge's price from the price_dict dictionary we would the following:"
   ]
  },
  {
   "cell_type": "code",
   "execution_count": null,
   "id": "immediate-television",
   "metadata": {},
   "outputs": [],
   "source": [
    "price_dict['dogecoin']"
   ]
  },
  {
   "cell_type": "markdown",
   "id": "objective-bibliography",
   "metadata": {},
   "source": [
    "Now try to get the following data:\n",
    "\n",
    "1) The string **'Mira'** from the **analyst_dict** dictionary\n",
    "2) The **sector** of **bitcoin** from the **dict_of_dicts**| dictionary.\n",
    "3) The integer **2100** from the list of **prices** of **ethereum** from the **dict_of_dicts** dictionary."
   ]
  },
  {
   "cell_type": "code",
   "execution_count": null,
   "id": "lesbian-detective",
   "metadata": {},
   "outputs": [],
   "source": [
    "# Type your code for 1) below\n"
   ]
  },
  {
   "cell_type": "code",
   "execution_count": null,
   "id": "scientific-spoke",
   "metadata": {},
   "outputs": [],
   "source": [
    "# Type your code for 2) below\n"
   ]
  },
  {
   "cell_type": "code",
   "execution_count": null,
   "id": "affecting-bobby",
   "metadata": {},
   "outputs": [],
   "source": [
    "# Type your code for 3) below\n"
   ]
  },
  {
   "cell_type": "markdown",
   "id": "correct-secretary",
   "metadata": {},
   "source": [
    "## Why Does This Matter? "
   ]
  },
  {
   "cell_type": "markdown",
   "id": "athletic-upgrade",
   "metadata": {},
   "source": [
    "Well data APIs are just a combination of a bunch lists and dictionaries. Lets take look at an example:\n",
    "\n",
    "Following this  [link](https://data.messari.io/api/v1/assets/bitcoin/metrics/price/time-series) will show the API call for Bitcoin's price timeseries from Messari's API."
   ]
  },
  {
   "cell_type": "code",
   "execution_count": null,
   "id": "meaning-fence",
   "metadata": {},
   "outputs": [],
   "source": [
    "import requests\n",
    "url = 'https://data.messari.io/api/v1/assets/bitcoin/metrics/price/time-series'\n",
    "responce = requests.get(url).json()\n",
    "responce"
   ]
  }
 ],
 "metadata": {
  "kernelspec": {
   "display_name": "Python 3",
   "language": "python",
   "name": "python3"
  },
  "language_info": {
   "codemirror_mode": {
    "name": "ipython",
    "version": 3
   },
   "file_extension": ".py",
   "mimetype": "text/x-python",
   "name": "python",
   "nbconvert_exporter": "python",
   "pygments_lexer": "ipython3",
   "version": "3.8.8"
  }
 },
 "nbformat": 4,
 "nbformat_minor": 5
}
