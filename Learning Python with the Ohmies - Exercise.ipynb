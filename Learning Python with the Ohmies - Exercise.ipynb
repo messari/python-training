{
 "cells": [
  {
   "cell_type": "markdown",
   "id": "8b0a5f00",
   "metadata": {},
   "source": [
    "# Learning Python with the Ohmies Ω"
   ]
  },
  {
   "cell_type": "markdown",
   "id": "a4cfd24c",
   "metadata": {},
   "source": [
    "The purpose of this notebook is to be a partially guided walkthrough of using python and some Messari tooling to see how we can improve our data gathering abilities!"
   ]
  },
  {
   "cell_type": "markdown",
   "id": "73ab4bd3",
   "metadata": {},
   "source": [
    "## Setup"
   ]
  },
  {
   "cell_type": "markdown",
   "id": "e26bf073",
   "metadata": {},
   "source": [
    "First lets do some global imports. If you don't have any of these repositories you should try running this in your terminal `pip install pandas` and `pip install copy`"
   ]
  },
  {
   "cell_type": "code",
   "execution_count": 12,
   "id": "7554781c",
   "metadata": {},
   "outputs": [],
   "source": [
    "import pandas as pd\n",
    "import copy\n",
    "import time"
   ]
  },
  {
   "cell_type": "markdown",
   "id": "258e570c",
   "metadata": {},
   "source": [
    "Now lets do some local imports from the messari library. To install these repositories you need to point pip to the github repository we host the code at. Try running this in your terminal `pip install git+https://github.com/messari/messari-python-api-private.git` You may have to restart your jupyter notebook to get this change to take effect, look under Kernel->Restart in the menu bar."
   ]
  },
  {
   "cell_type": "code",
   "execution_count": 2,
   "id": "0cfe99ef",
   "metadata": {},
   "outputs": [],
   "source": [
    "from messari.messari import Messari\n",
    "from messari.blockexplorers import Etherscan\n",
    "from messari.defillama import DeFiLlama"
   ]
  },
  {
   "cell_type": "markdown",
   "id": "459917f0",
   "metadata": {},
   "source": [
    "And lets set up the clients"
   ]
  },
  {
   "cell_type": "code",
   "execution_count": 1,
   "id": "5e687814",
   "metadata": {},
   "outputs": [],
   "source": [
    "MESSARI_API_KEY = 'api_key_here'\n",
    "\n",
    "# Create an instance of the Messari using your API key below\n",
    "\n",
    "ETHERSCAN_API_KEY = 'api_key_here'\n",
    "\n",
    "# Create an instance of the Etherscan using your API key below\n"
   ]
  },
  {
   "cell_type": "markdown",
   "id": "046ab3ee",
   "metadata": {},
   "source": [
    "SPECIAL CASE: Some people have run into some issues installing the messari library. This is the most universal way to brute force the install. In a new cell in this jupyter notebook run this as code."
   ]
  },
  {
   "cell_type": "markdown",
   "id": "f5dc6cf8",
   "metadata": {},
   "source": [
    "`import sys\n",
    "!{sys.executable} -m pip uninstall messari -y`\n",
    "\n",
    "Then run this:\n",
    "\n",
    "`import sys\n",
    "!{sys.executable} -m pip install git+https://github.com/messari/messari-python-api-private.git`"
   ]
  },
  {
   "cell_type": "markdown",
   "id": "4a02fe8e",
   "metadata": {},
   "source": [
    "TLDR this runs install commands directly from this notebook and installs what you need into this specific enviornment. If you open a new jupyter notebook and want to use the messari library, you'll likely have to do this again. This only needs to be done once per notebook to set up the library, once you've run this code in a notebook you won't have to run it again. This is not how I recomend installing the messari library but in the interest of time I'm confident this will fix most of your problems. If you want to try and wrangle through these issues on your specific computer and install the messari library the right way, hit me up and we can do a screen share sesh at another time"
   ]
  },
  {
   "cell_type": "markdown",
   "id": "09c6c75f",
   "metadata": {},
   "source": [
    "## Initial Research"
   ]
  },
  {
   "cell_type": "markdown",
   "id": "9f621f87",
   "metadata": {},
   "source": [
    "Before we can get to the fun part and start coding, we need to do some equally run researching! Go out and see if you can find the two ethereum addresses for the Olympus DAO treasuries. Once you have them, assign them below"
   ]
  },
  {
   "cell_type": "code",
   "execution_count": 2,
   "id": "cc97ced7",
   "metadata": {},
   "outputs": [],
   "source": [
    "ohm_treasury_v1 = 'address_here'\n",
    "ohm_treasury_v2 = 'address_here'"
   ]
  },
  {
   "cell_type": "markdown",
   "id": "b182e94b-772a-4451-8bbd-5c7c604cae44",
   "metadata": {},
   "source": [
    "## Extracting data from Ethereum"
   ]
  },
  {
   "cell_type": "markdown",
   "id": "435ef42d-c649-408c-89eb-f94077382528",
   "metadata": {},
   "source": [
    "Now that you found the Ethereum addresses of the Olympus DAO treasury, we want to get a better understanding of the token transfers that have occured in and out of the treasury. \n",
    "\n",
    "Go into the [blockexplorer documentation](https://github.com/messari/messari-python-api-private/blob/master/examples/notebooks/Etherscan%20API%20Tutorial.ipynb) in the Messari Python library to find the fuction that returns this information"
   ]
  },
  {
   "cell_type": "markdown",
   "id": "d32536f1",
   "metadata": {},
   "source": [
    "Forgive the hardcoding here but the pagination of Etherscan was throwing me off"
   ]
  },
  {
   "cell_type": "code",
   "execution_count": 3,
   "id": "54e90a43",
   "metadata": {},
   "outputs": [],
   "source": [
    "# Write your code here\n"
   ]
  },
  {
   "cell_type": "markdown",
   "id": "600d2ed4",
   "metadata": {},
   "source": [
    "## Extract list of token names from OHM token transfers"
   ]
  },
  {
   "cell_type": "markdown",
   "id": "4775e863",
   "metadata": {},
   "source": [
    "Using the DataFrame with all of the Olympus treasury token transfers, can you print a list of the tokens held by the Olympus treasury?\n",
    "\n",
    "The list should not have any repeats and you should try to do this without using any for loops"
   ]
  },
  {
   "cell_type": "code",
   "execution_count": 4,
   "id": "5619cb60",
   "metadata": {
    "scrolled": true
   },
   "outputs": [],
   "source": [
    "# Write your code here\n"
   ]
  },
  {
   "cell_type": "markdown",
   "id": "a6023b65",
   "metadata": {},
   "source": [
    "# Getting running totals"
   ]
  },
  {
   "cell_type": "markdown",
   "id": "d3f59f35",
   "metadata": {},
   "source": [
    "In this step you are going to have to bear with me and trust the process. Now that we have a list of all tokens transfers to the ohm treasury we need to turn this into a running list of the treasury balance over time. This list should look a little something like this."
   ]
  },
  {
   "cell_type": "markdown",
   "id": "682a25e8",
   "metadata": {},
   "source": [
    "`list = [{timeStamp: 10, sushi: 0, dai: 0}, {timeStamp: 11, sushi: 24, dai: 0}, {timeStamp: 12, sushi: 24, dai: 4}]`"
   ]
  },
  {
   "cell_type": "markdown",
   "id": "3cbc9d0c",
   "metadata": {},
   "source": [
    "The above list is just the concept, the real list should include all the tokens, and the timestamps will not be sequential"
   ]
  },
  {
   "cell_type": "code",
   "execution_count": 22,
   "id": "2731696f",
   "metadata": {},
   "outputs": [],
   "source": [
    "# Write your code here\n",
    "\n"
   ]
  },
  {
   "cell_type": "markdown",
   "id": "67d33254",
   "metadata": {},
   "source": [
    "Now that we have our list of dictionaries, we can easily turn it into a dataframe."
   ]
  },
  {
   "cell_type": "code",
   "execution_count": 5,
   "id": "c14affb7",
   "metadata": {},
   "outputs": [],
   "source": [
    "# Write your code here\n",
    "\n",
    "# Create DataFrame with list\n",
    "\n",
    "# Set the index to 'timeStamp'\n",
    "\n",
    "# Convert the index to a datetime\n",
    "\n",
    "# Replace the index with just the date of the index\n",
    "\n",
    "# Filter the DataFrame to just have the last entry of each date\n"
   ]
  },
  {
   "cell_type": "markdown",
   "id": "51ebb7f7-fb04-4535-9f91-a833d486fb5c",
   "metadata": {},
   "source": [
    "## Pull Price data from Messari's API"
   ]
  },
  {
   "cell_type": "markdown",
   "id": "bc0740e9",
   "metadata": {},
   "source": [
    "Now we need to get the most recent price for each asset in the OHM treasury. However you chose to do this, the output should look like this:"
   ]
  },
  {
   "cell_type": "markdown",
   "id": "9919ded1",
   "metadata": {},
   "source": [
    "`{DAI: 1, SUSHI: 3.4, FXS: 23.2, ......}`"
   ]
  },
  {
   "cell_type": "code",
   "execution_count": 6,
   "id": "5579a045",
   "metadata": {},
   "outputs": [],
   "source": [
    "# Write your code here to pull the most recent price for the list of assets\n",
    "# you created in the previous step\n",
    "        \n",
    "# Get prices from the messari api, turn into dictionary\n"
   ]
  },
  {
   "cell_type": "markdown",
   "id": "37effa7b",
   "metadata": {},
   "source": [
    "Now, can you use the prices in the dictionary you made to create a new dataframe where the tokens are scaled by the most recent price?"
   ]
  },
  {
   "cell_type": "code",
   "execution_count": 7,
   "id": "95698041",
   "metadata": {},
   "outputs": [],
   "source": [
    "# Write your code here\n"
   ]
  },
  {
   "cell_type": "markdown",
   "id": "a4a71d14",
   "metadata": {},
   "source": [
    "# Charting ♥\n",
    "\n",
    "Lastly plot a line chart of the results"
   ]
  },
  {
   "cell_type": "code",
   "execution_count": 8,
   "id": "def2588f",
   "metadata": {},
   "outputs": [],
   "source": [
    "# Write your code here"
   ]
  },
  {
   "cell_type": "markdown",
   "id": "4ea64d51",
   "metadata": {},
   "source": [
    "Once you have the chart you should do some exploring. Can you find some other sources to confirm the accuracry of what you've plotted? "
   ]
  }
 ],
 "metadata": {
  "kernelspec": {
   "display_name": "Python 3 (ipykernel)",
   "language": "python",
   "name": "python3"
  },
  "language_info": {
   "codemirror_mode": {
    "name": "ipython",
    "version": 3
   },
   "file_extension": ".py",
   "mimetype": "text/x-python",
   "name": "python",
   "nbconvert_exporter": "python",
   "pygments_lexer": "ipython3",
   "version": "3.9.7"
  }
 },
 "nbformat": 4,
 "nbformat_minor": 5
}
