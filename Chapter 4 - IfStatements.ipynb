{
 "cells": [
  {
   "cell_type": "markdown",
   "metadata": {},
   "source": [
    "# Python - Decision Making"
   ]
  },
  {
   "cell_type": "markdown",
   "metadata": {},
   "source": [
    "Decision making is anticipation of conditions occurring while execution of the program and specifying actions taken according to the conditions."
   ]
  },
  {
   "cell_type": "markdown",
   "metadata": {},
   "source": [
    "## Introduction to the if Statement"
   ]
  },
  {
   "cell_type": "markdown",
   "metadata": {},
   "source": [
    "We’ll start by looking at the most basic type of if statement. In its simplest form, it looks like this:"
   ]
  },
  {
   "cell_type": "code",
   "execution_count": null,
   "metadata": {},
   "outputs": [],
   "source": [
    "if <expr>:\n",
    "    <statement>"
   ]
  },
  {
   "cell_type": "markdown",
   "metadata": {},
   "source": [
    "In the form shown above:\n",
    "\n",
    "* **expr** is an expression evaluated in a Boolean context, as discussed in the section on Logical Operators in the Operators and Expressions in Python tutorial.\n",
    "\n",
    "* **statement** is a valid Python statement, which must be indented. (You will see why very soon.)\n",
    "\n",
    "If **expr** is true (evaluates to a value that is true), then **statement** is executed. If **expr** is false, then **statement** is skipped over and not executed.\n",
    "\n",
    "Note that the colon (:) following **expr** is required. Some programming languages require **expr** to be enclosed in parentheses, but Python does not."
   ]
  },
  {
   "cell_type": "code",
   "execution_count": null,
   "metadata": {},
   "outputs": [],
   "source": [
    "x = 0\n",
    "y = 5\n",
    "\n",
    "if x < y:                            # True\n",
    "    print('yes')\n",
    "if y < x:                            # False\n",
    "    print('yes')\n",
    "if x:                                # False\n",
    "    print('yes')\n",
    "if y:                                # True\n",
    "    print('yes')\n",
    "if x or y:                           # True\n",
    "    print('yes')\n",
    "if x and y:                          # False\n",
    "    print('yes')\n",
    "if 'aul' in 'grault':                # True\n",
    "    print('yes')\n",
    "if 'quux' in ['foo', 'bar', 'baz']:  # False\n",
    "    print('yes')"
   ]
  },
  {
   "cell_type": "markdown",
   "metadata": {},
   "source": [
    "# The else and elif Clauses\n",
    "\n",
    "Now you know how to use an if statement to conditionally execute a single statement or a block of several statements. It’s time to find out what else you can do.\n",
    "\n",
    "Sometimes, you want to evaluate a condition and take one path if it is true but specify an alternative path if it is not. This is accomplished with an else clause:"
   ]
  },
  {
   "cell_type": "code",
   "execution_count": null,
   "metadata": {},
   "outputs": [],
   "source": [
    "if <expr>:\n",
    "    <statement(s)>\n",
    "else:\n",
    "    <statement(s)>"
   ]
  },
  {
   "cell_type": "markdown",
   "metadata": {},
   "source": [
    "If **expr** is true, the first suite is executed, and the second is skipped. If **expr** is false, the first suite is skipped and the second is executed. Either way, execution then resumes after the second suite. Both suites are defined by indentation, as described above."
   ]
  },
  {
   "cell_type": "code",
   "execution_count": null,
   "metadata": {},
   "outputs": [],
   "source": [
    "x = 20\n",
    "\n",
    "if x < 50:\n",
    "    print('x is small')\n",
    "else:\n",
    "    print('x is large')"
   ]
  },
  {
   "cell_type": "markdown",
   "metadata": {},
   "source": [
    "There is also syntax for branching execution based on several alternatives. For this, use one or more elif (short for else if) clauses. Python evaluates each <expr> in turn and executes the suite corresponding to the first that is true. If none of the expressions are true, and an else clause is specified, then its suite is executed:"
   ]
  },
  {
   "cell_type": "code",
   "execution_count": null,
   "metadata": {},
   "outputs": [],
   "source": [
    "if <expr>:\n",
    "    <statement(s)>\n",
    "elif <expr>:\n",
    "    <statement(s)>\n",
    "elif <expr>:\n",
    "    <statement(s)>\n",
    "    ...\n",
    "else:\n",
    "    <statement(s)>"
   ]
  },
  {
   "cell_type": "markdown",
   "metadata": {},
   "source": [
    "An arbitrary number of elif clauses can be specified. The else clause is optional. If it is present, there can be only one, and it must be specified last:"
   ]
  },
  {
   "cell_type": "code",
   "execution_count": null,
   "metadata": {},
   "outputs": [],
   "source": [
    "name = 'Moi'\n",
    "\n",
    "if name == 'Fred':\n",
    "    print('Hello Fred')\n",
    "elif name == 'Mike':\n",
    "    print('Hello Mike')\n",
    "elif name == 'Yule':\n",
    "    print('Hello Yule')\n",
    "elif name == 'Moi':\n",
    "    print('Hello Moi')\n",
    "else:\n",
    "    print(\"I don't know who you are!\")"
   ]
  },
  {
   "cell_type": "markdown",
   "metadata": {},
   "source": [
    "# Exercises"
   ]
  },
  {
   "cell_type": "markdown",
   "metadata": {},
   "source": [
    "Write an if statement that checks the value of a string variable called name. If the name is \"Bond\" make it print \"Welcome on board 007.\" Otherwise make it print \"Good morning NAME\". (Replace Name with user's name)"
   ]
  },
  {
   "cell_type": "code",
   "execution_count": 1,
   "metadata": {},
   "outputs": [],
   "source": [
    "# Type your answer here"
   ]
  },
  {
   "cell_type": "markdown",
   "metadata": {},
   "source": [
    "### Grading Exams\n",
    "A school has following rules for grading system:\n",
    "\n",
    "* Below 25 - F\n",
    "* 25 to 45 - E\n",
    "* 45 to 50 - D\n",
    "* 50 to 60 - C\n",
    "* 60 to 80 - B\n",
    "* Above 80 - A\n",
    "\n",
    "Using the **input()** function, ask the user to enter their grade and print the corresponding grade."
   ]
  },
  {
   "cell_type": "code",
   "execution_count": 3,
   "metadata": {},
   "outputs": [],
   "source": [
    "# Type your answer here"
   ]
  },
  {
   "cell_type": "markdown",
   "metadata": {},
   "source": [
    "### Three is a crowd\n",
    "* In one cell, make a list of names that includes at least four people.\n",
    "* In a cell below, write an if test that prints a message about the room being crowded, if there are more than three people in your list.\n",
    "* Modify your list so that there are only two people in it. Use one of the methods for removing people from the list, don't just redefine the list.\n",
    "* Run your if test again. There should be no output this time, because there are less than three people in the list."
   ]
  },
  {
   "cell_type": "code",
   "execution_count": 4,
   "metadata": {},
   "outputs": [],
   "source": [
    "# Type your answer here"
   ]
  }
 ],
 "metadata": {
  "kernelspec": {
   "display_name": "Python 3",
   "language": "python",
   "name": "python3"
  },
  "language_info": {
   "codemirror_mode": {
    "name": "ipython",
    "version": 3
   },
   "file_extension": ".py",
   "mimetype": "text/x-python",
   "name": "python",
   "nbconvert_exporter": "python",
   "pygments_lexer": "ipython3",
   "version": "3.8.8"
  }
 },
 "nbformat": 4,
 "nbformat_minor": 4
}
